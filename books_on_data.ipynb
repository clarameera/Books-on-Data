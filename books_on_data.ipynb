{
 "cells": [
  {
   "cell_type": "markdown",
   "id": "74df0197-987c-4756-9ec7-adb008538991",
   "metadata": {},
   "source": [
    "<h1 style=\"text-align: center;\">Books on Data: <br> Cleaning and Visualizing Data with Python</h1>"
   ]
  },
  {
   "cell_type": "markdown",
   "id": "20e02eb4-9ab5-4ef0-a05f-48d8ea7c4831",
   "metadata": {},
   "source": [
    "__Dataset__: I'll be using a Kaggle dataset containing information on 200+ books about data science. The data was collected using Beautiful Soup and contains 6 columns ('book-title', 'author', 'star', 'buyers', 'cover', and 'price $'). More information can be found [here](https://doi.org/10.34740/kaggle/dsv/4096198). <br>\n",
    "<br>\n",
    "__Goal__: My primary goal for this project is to transform datascience_book.csv into a usable, __CLEAN__ dataset. Once the dataset is cleaned, I'll create a few visualizations to further understand relationships between variables and potentially uncover steps for further analysis. "
   ]
  },
  {
   "cell_type": "markdown",
   "id": "1ce4824b-d12b-44e0-b59b-27d812f8df75",
   "metadata": {},
   "source": [
    "## Step 1: <br> Import Libraries and Dataset"
   ]
  },
  {
   "cell_type": "code",
   "execution_count": 1,
   "id": "d9f030b5-0bf1-456c-ab00-0b673915bee6",
   "metadata": {
    "scrolled": true
   },
   "outputs": [
    {
     "name": "stderr",
     "output_type": "stream",
     "text": [
      "[nltk_data] Downloading package stopwords to\n",
      "[nltk_data]     /Users/clarahughes/nltk_data...\n",
      "[nltk_data]   Package stopwords is already up-to-date!\n",
      "[nltk_data] Downloading package punkt_tab to\n",
      "[nltk_data]     /Users/clarahughes/nltk_data...\n",
      "[nltk_data]   Package punkt_tab is already up-to-date!\n"
     ]
    }
   ],
   "source": [
    "import pandas as pd\n",
    "import numpy as np\n",
    "import matplotlib.pyplot as plt\n",
    "import seaborn as sns\n",
    "import string\n",
    "\n",
    "import nltk\n",
    "from nltk import word_tokenize\n",
    "nltk.download('stopwords')\n",
    "from nltk.corpus import stopwords\n",
    "stopwords = set(stopwords.words('english'))\n",
    "nltk.download('punkt_tab')\n",
    "\n",
    "from collections import Counter\n",
    "\n",
    "pd.set_option('display.max_colwidth', None) #instructs pandas to display entire strings, without truncation"
   ]
  },
  {
   "cell_type": "code",
   "execution_count": 2,
   "id": "60d9b316-1427-4327-bed5-ebbb25bcbb7b",
   "metadata": {},
   "outputs": [],
   "source": [
    "#read csv file. Include 'unicode_escape' to prevent any encoding errors. \n",
    "df = pd.read_csv('/Users/clarahughes/DATA/Datasets/DataScience_book.csv', encoding = 'unicode_escape')"
   ]
  },
  {
   "cell_type": "markdown",
   "id": "7d6e05bd-aefa-4fda-93ad-1a20a33a9434",
   "metadata": {},
   "source": [
    "## Step 2: <br> Initial Exploration"
   ]
  },
  {
   "cell_type": "markdown",
   "id": "d9e1c28a-8ef7-4552-9689-758b2e35dcb3",
   "metadata": {},
   "source": [
    "To start, we can run head(), tail(), and info() to quickly get a sense of what our dataset look like:"
   ]
  },
  {
   "cell_type": "code",
   "execution_count": 3,
   "id": "8f2d1389-d44c-40ff-920b-911f652f9cfb",
   "metadata": {},
   "outputs": [
    {
     "data": {
      "text/html": [
       "<div>\n",
       "<style scoped>\n",
       "    .dataframe tbody tr th:only-of-type {\n",
       "        vertical-align: middle;\n",
       "    }\n",
       "\n",
       "    .dataframe tbody tr th {\n",
       "        vertical-align: top;\n",
       "    }\n",
       "\n",
       "    .dataframe thead th {\n",
       "        text-align: right;\n",
       "    }\n",
       "</style>\n",
       "<table border=\"1\" class=\"dataframe\">\n",
       "  <thead>\n",
       "    <tr style=\"text-align: right;\">\n",
       "      <th></th>\n",
       "      <th>book-title</th>\n",
       "      <th>author</th>\n",
       "      <th>star</th>\n",
       "      <th>buyers</th>\n",
       "      <th>cover</th>\n",
       "      <th>price $</th>\n",
       "    </tr>\n",
       "  </thead>\n",
       "  <tbody>\n",
       "    <tr>\n",
       "      <th>0</th>\n",
       "      <td>Machine Learning: 4 Books in 1: The #1 Beginner's Guide to Master the Basics of Python Programming, Learn the Art of</td>\n",
       "      <td>Andrew Park</td>\n",
       "      <td>4.5</td>\n",
       "      <td>360</td>\n",
       "      <td>paperback</td>\n",
       "      <td>25.97</td>\n",
       "    </tr>\n",
       "    <tr>\n",
       "      <th>1</th>\n",
       "      <td>Stephen J. Wright and Benjamin</td>\n",
       "      <td>NaN</td>\n",
       "      <td>5.0</td>\n",
       "      <td>2</td>\n",
       "      <td>Hardcover</td>\n",
       "      <td>49.99</td>\n",
       "    </tr>\n",
       "    <tr>\n",
       "      <th>2</th>\n",
       "      <td>Data Smart: Using Data Science to Transform Information into Insight</td>\n",
       "      <td>John W. Foreman</td>\n",
       "      <td>4.5</td>\n",
       "      <td>344</td>\n",
       "      <td>paperback</td>\n",
       "      <td>20.49</td>\n",
       "    </tr>\n",
       "    <tr>\n",
       "      <th>3</th>\n",
       "      <td>Ace the Data Science Interview: 201 Real Interview Questions Asked By FAANG, Tech Startups, &amp; Wall Street</td>\n",
       "      <td>Nick Singh and Kevin Huo</td>\n",
       "      <td>4.5</td>\n",
       "      <td>564</td>\n",
       "      <td>paperback</td>\n",
       "      <td>35.76</td>\n",
       "    </tr>\n",
       "    <tr>\n",
       "      <th>4</th>\n",
       "      <td>Becoming a Data Head: How to Think, Speak and Understand Data Science, Statistics and Machine Learning</td>\n",
       "      <td>Alex J. Gutman and Jordan</td>\n",
       "      <td>4.5</td>\n",
       "      <td>169</td>\n",
       "      <td>paperback</td>\n",
       "      <td>24.49</td>\n",
       "    </tr>\n",
       "  </tbody>\n",
       "</table>\n",
       "</div>"
      ],
      "text/plain": [
       "                                                                                                             book-title  \\\n",
       "0  Machine Learning: 4 Books in 1: The #1 Beginner's Guide to Master the Basics of Python Programming, Learn the Art of   \n",
       "1                                                                                        Stephen J. Wright and Benjamin   \n",
       "2                                                  Data Smart: Using Data Science to Transform Information into Insight   \n",
       "3             Ace the Data Science Interview: 201 Real Interview Questions Asked By FAANG, Tech Startups, & Wall Street   \n",
       "4                Becoming a Data Head: How to Think, Speak and Understand Data Science, Statistics and Machine Learning   \n",
       "\n",
       "                       author  star  buyers      cover  price $  \n",
       "0                 Andrew Park   4.5     360  paperback    25.97  \n",
       "1                         NaN   5.0       2  Hardcover    49.99  \n",
       "2             John W. Foreman   4.5     344  paperback    20.49  \n",
       "3    Nick Singh and Kevin Huo   4.5     564  paperback    35.76  \n",
       "4   Alex J. Gutman and Jordan   4.5     169  paperback    24.49  "
      ]
     },
     "execution_count": 3,
     "metadata": {},
     "output_type": "execute_result"
    }
   ],
   "source": [
    "df.head()"
   ]
  },
  {
   "cell_type": "code",
   "execution_count": 4,
   "id": "d725e6ca-8c34-43fb-a1af-c2a575f511f1",
   "metadata": {},
   "outputs": [
    {
     "data": {
      "text/html": [
       "<div>\n",
       "<style scoped>\n",
       "    .dataframe tbody tr th:only-of-type {\n",
       "        vertical-align: middle;\n",
       "    }\n",
       "\n",
       "    .dataframe tbody tr th {\n",
       "        vertical-align: top;\n",
       "    }\n",
       "\n",
       "    .dataframe thead th {\n",
       "        text-align: right;\n",
       "    }\n",
       "</style>\n",
       "<table border=\"1\" class=\"dataframe\">\n",
       "  <thead>\n",
       "    <tr style=\"text-align: right;\">\n",
       "      <th></th>\n",
       "      <th>book-title</th>\n",
       "      <th>author</th>\n",
       "      <th>star</th>\n",
       "      <th>buyers</th>\n",
       "      <th>cover</th>\n",
       "      <th>price $</th>\n",
       "    </tr>\n",
       "  </thead>\n",
       "  <tbody>\n",
       "    <tr>\n",
       "      <th>208</th>\n",
       "      <td>Deep Learning with TensorFlow 2 and Keras: Regression, ConvNets, GANs, RNNs, NLP, and more with TensorFlow 2</td>\n",
       "      <td>Antonio Gulli , Amita Kapoor</td>\n",
       "      <td>4.3</td>\n",
       "      <td>114</td>\n",
       "      <td>paperback</td>\n",
       "      <td>32.99</td>\n",
       "    </tr>\n",
       "    <tr>\n",
       "      <th>209</th>\n",
       "      <td>TensorFlow 2.0 Computer Vision Cookbook: Implement machine learning solutions to overcome various computer</td>\n",
       "      <td>Jesús Martinez</td>\n",
       "      <td>4.2</td>\n",
       "      <td>7</td>\n",
       "      <td>paperback</td>\n",
       "      <td>41.99</td>\n",
       "    </tr>\n",
       "    <tr>\n",
       "      <th>210</th>\n",
       "      <td>Python Machine Learning: Machine Learning and Deep Learning with Python, scikit-learn, and TensorFlow 2, 3rd</td>\n",
       "      <td>Sebastian Raschka and Vahid Mirjalili</td>\n",
       "      <td>4.3</td>\n",
       "      <td>379</td>\n",
       "      <td>paperback</td>\n",
       "      <td>49.39</td>\n",
       "    </tr>\n",
       "    <tr>\n",
       "      <th>211</th>\n",
       "      <td>Machine Learning for Algorithmic Trading: Predictive models to extract signals from market and alternative</td>\n",
       "      <td>Stefan Jansen</td>\n",
       "      <td>4.3</td>\n",
       "      <td>237</td>\n",
       "      <td>paperback</td>\n",
       "      <td>44.99</td>\n",
       "    </tr>\n",
       "    <tr>\n",
       "      <th>212</th>\n",
       "      <td>Advanced Deep Learning with TensorFlow 2 and Keras: Apply DL, GANs, VAEs, deep RL, unsupervised learning,</td>\n",
       "      <td>Rowel Atienza</td>\n",
       "      <td>4.3</td>\n",
       "      <td>60</td>\n",
       "      <td>paperback</td>\n",
       "      <td>39.99</td>\n",
       "    </tr>\n",
       "  </tbody>\n",
       "</table>\n",
       "</div>"
      ],
      "text/plain": [
       "                                                                                                       book-title  \\\n",
       "208  Deep Learning with TensorFlow 2 and Keras: Regression, ConvNets, GANs, RNNs, NLP, and more with TensorFlow 2   \n",
       "209    TensorFlow 2.0 Computer Vision Cookbook: Implement machine learning solutions to overcome various computer   \n",
       "210  Python Machine Learning: Machine Learning and Deep Learning with Python, scikit-learn, and TensorFlow 2, 3rd   \n",
       "211    Machine Learning for Algorithmic Trading: Predictive models to extract signals from market and alternative   \n",
       "212     Advanced Deep Learning with TensorFlow 2 and Keras: Apply DL, GANs, VAEs, deep RL, unsupervised learning,   \n",
       "\n",
       "                                    author  star  buyers      cover  price $  \n",
       "208           Antonio Gulli , Amita Kapoor   4.3     114  paperback    32.99  \n",
       "209                         Jesús Martinez   4.2       7  paperback    41.99  \n",
       "210  Sebastian Raschka and Vahid Mirjalili   4.3     379  paperback    49.39  \n",
       "211                          Stefan Jansen   4.3     237  paperback    44.99  \n",
       "212                          Rowel Atienza   4.3      60  paperback    39.99  "
      ]
     },
     "execution_count": 4,
     "metadata": {},
     "output_type": "execute_result"
    }
   ],
   "source": [
    "df.tail()"
   ]
  },
  {
   "cell_type": "code",
   "execution_count": 5,
   "id": "6ba3b7a7-7aea-4791-836d-274207778a59",
   "metadata": {},
   "outputs": [
    {
     "name": "stdout",
     "output_type": "stream",
     "text": [
      "<class 'pandas.core.frame.DataFrame'>\n",
      "RangeIndex: 213 entries, 0 to 212\n",
      "Data columns (total 6 columns):\n",
      " #   Column      Non-Null Count  Dtype  \n",
      "---  ------      --------------  -----  \n",
      " 0   book-title  213 non-null    object \n",
      " 1   author      212 non-null    object \n",
      " 2   star        213 non-null    float64\n",
      " 3   buyers      213 non-null    int64  \n",
      " 4   cover       213 non-null    object \n",
      " 5   price $     213 non-null    float64\n",
      "dtypes: float64(2), int64(1), object(3)\n",
      "memory usage: 10.1+ KB\n"
     ]
    }
   ],
   "source": [
    "df.info()"
   ]
  },
  {
   "cell_type": "markdown",
   "id": "191e746f-330b-4d05-8346-efc167583262",
   "metadata": {},
   "source": [
    "### This initial exploration already reveals a few issues that we'll need to address:\n",
    "    1. Null Values-- 'author' has one NaN value\n",
    "    2. Miscategorized Values--  author name \"Stephen J. Wright and Benjamin\" is in 'book-title' column\t\n",
    "    3. Truncated Titles\n",
    "    4. Inconsistent Capitilization-- 'Hardcover' is only capitalized 'cover' type"
   ]
  },
  {
   "cell_type": "markdown",
   "id": "c25cce4b-f2ac-44b8-836a-826166cc85a4",
   "metadata": {},
   "source": [
    "## Step 3: <br> Cleaning the Data"
   ]
  },
  {
   "cell_type": "markdown",
   "id": "4846b63b-fd2a-4179-a088-b7d2a8041176",
   "metadata": {},
   "source": [
    "In this step, I'll assess the quality, uniformity, and reliability of our dataset. Are values missing? Are there duplicates? Is everything the right data type? Is the formating consistent throughout?"
   ]
  },
  {
   "cell_type": "markdown",
   "id": "f87b0bed-0fa2-4d63-aca6-9e11ae14a85a",
   "metadata": {},
   "source": [
    "### Handling Null Values\n",
    "##### We can start by finding the sum of null values in each column to see where they exist in our data:"
   ]
  },
  {
   "cell_type": "code",
   "execution_count": 6,
   "id": "7a121e1e-3f15-4f9e-801b-d8edcc39fa41",
   "metadata": {
    "scrolled": true
   },
   "outputs": [
    {
     "data": {
      "text/plain": [
       "book-title    0\n",
       "author        1\n",
       "star          0\n",
       "buyers        0\n",
       "cover         0\n",
       "price $       0\n",
       "dtype: int64"
      ]
     },
     "execution_count": 6,
     "metadata": {},
     "output_type": "execute_result"
    }
   ],
   "source": [
    "df.isna().sum() \n",
    "#this shows there's only 1 null value and it's in the 'author' column"
   ]
  },
  {
   "cell_type": "code",
   "execution_count": 7,
   "id": "61d9f1a0-db8b-4a3b-b411-9c947e103085",
   "metadata": {},
   "outputs": [
    {
     "data": {
      "text/html": [
       "<div>\n",
       "<style scoped>\n",
       "    .dataframe tbody tr th:only-of-type {\n",
       "        vertical-align: middle;\n",
       "    }\n",
       "\n",
       "    .dataframe tbody tr th {\n",
       "        vertical-align: top;\n",
       "    }\n",
       "\n",
       "    .dataframe thead th {\n",
       "        text-align: right;\n",
       "    }\n",
       "</style>\n",
       "<table border=\"1\" class=\"dataframe\">\n",
       "  <thead>\n",
       "    <tr style=\"text-align: right;\">\n",
       "      <th></th>\n",
       "      <th>book-title</th>\n",
       "      <th>author</th>\n",
       "      <th>star</th>\n",
       "      <th>buyers</th>\n",
       "      <th>cover</th>\n",
       "      <th>price $</th>\n",
       "    </tr>\n",
       "  </thead>\n",
       "  <tbody>\n",
       "    <tr>\n",
       "      <th>1</th>\n",
       "      <td>Stephen J. Wright and Benjamin</td>\n",
       "      <td>NaN</td>\n",
       "      <td>5.0</td>\n",
       "      <td>2</td>\n",
       "      <td>Hardcover</td>\n",
       "      <td>49.99</td>\n",
       "    </tr>\n",
       "  </tbody>\n",
       "</table>\n",
       "</div>"
      ],
      "text/plain": [
       "                        book-title author  star  buyers      cover  price $\n",
       "1   Stephen J. Wright and Benjamin    NaN   5.0       2  Hardcover    49.99"
      ]
     },
     "execution_count": 7,
     "metadata": {},
     "output_type": "execute_result"
    }
   ],
   "source": [
    "#operating row-wise through df, check if ANY value in a row is null. Then use this boolean series to index df\n",
    "df[df.isna().any(axis=1)]\n",
    "#outputs any row with at least 1 missing value "
   ]
  },
  {
   "cell_type": "markdown",
   "id": "ffb2bf09-71cc-45fd-bcc1-f088435c1584",
   "metadata": {},
   "source": [
    "#### To fix this null value, we need to:\n",
    "    1. Use .fillna() to insert correct author's names into empty 'author' field\n",
    "    2. Where 'book-title' is 'Stephen J. Wright and Benjamin', insert correct book title ('Optimization for Data Analysis')"
   ]
  },
  {
   "cell_type": "code",
   "execution_count": 8,
   "id": "77275c09-907e-4477-92d6-4c19b26fbc96",
   "metadata": {
    "scrolled": true
   },
   "outputs": [],
   "source": [
    "df = df.fillna('Stephen J. Wright and Benjamin Recht')"
   ]
  },
  {
   "cell_type": "code",
   "execution_count": 9,
   "id": "2ec80d3f-f1cd-4183-be1e-4f2467cce12f",
   "metadata": {},
   "outputs": [],
   "source": [
    "df['book-title'] = np.where(df['book-title'] == '\\xa0Stephen J. Wright\\xa0and\\xa0Benjamin',\n",
    "                           'Optimization for Data Analysis', df['book-title'])"
   ]
  },
  {
   "cell_type": "code",
   "execution_count": 10,
   "id": "2aca14d1-e8c8-4ae8-97d6-62b88f3e0977",
   "metadata": {},
   "outputs": [
    {
     "data": {
      "text/html": [
       "<div>\n",
       "<style scoped>\n",
       "    .dataframe tbody tr th:only-of-type {\n",
       "        vertical-align: middle;\n",
       "    }\n",
       "\n",
       "    .dataframe tbody tr th {\n",
       "        vertical-align: top;\n",
       "    }\n",
       "\n",
       "    .dataframe thead th {\n",
       "        text-align: right;\n",
       "    }\n",
       "</style>\n",
       "<table border=\"1\" class=\"dataframe\">\n",
       "  <thead>\n",
       "    <tr style=\"text-align: right;\">\n",
       "      <th></th>\n",
       "      <th>book-title</th>\n",
       "      <th>author</th>\n",
       "      <th>star</th>\n",
       "      <th>buyers</th>\n",
       "      <th>cover</th>\n",
       "      <th>price $</th>\n",
       "    </tr>\n",
       "  </thead>\n",
       "  <tbody>\n",
       "    <tr>\n",
       "      <th>0</th>\n",
       "      <td>Machine Learning: 4 Books in 1: The #1 Beginner's Guide to Master the Basics of Python Programming, Learn the Art of</td>\n",
       "      <td>Andrew Park</td>\n",
       "      <td>4.5</td>\n",
       "      <td>360</td>\n",
       "      <td>paperback</td>\n",
       "      <td>25.97</td>\n",
       "    </tr>\n",
       "    <tr>\n",
       "      <th>1</th>\n",
       "      <td>Optimization for Data Analysis</td>\n",
       "      <td>Stephen J. Wright and Benjamin Recht</td>\n",
       "      <td>5.0</td>\n",
       "      <td>2</td>\n",
       "      <td>Hardcover</td>\n",
       "      <td>49.99</td>\n",
       "    </tr>\n",
       "    <tr>\n",
       "      <th>2</th>\n",
       "      <td>Data Smart: Using Data Science to Transform Information into Insight</td>\n",
       "      <td>John W. Foreman</td>\n",
       "      <td>4.5</td>\n",
       "      <td>344</td>\n",
       "      <td>paperback</td>\n",
       "      <td>20.49</td>\n",
       "    </tr>\n",
       "    <tr>\n",
       "      <th>3</th>\n",
       "      <td>Ace the Data Science Interview: 201 Real Interview Questions Asked By FAANG, Tech Startups, &amp; Wall Street</td>\n",
       "      <td>Nick Singh and Kevin Huo</td>\n",
       "      <td>4.5</td>\n",
       "      <td>564</td>\n",
       "      <td>paperback</td>\n",
       "      <td>35.76</td>\n",
       "    </tr>\n",
       "    <tr>\n",
       "      <th>4</th>\n",
       "      <td>Becoming a Data Head: How to Think, Speak and Understand Data Science, Statistics and Machine Learning</td>\n",
       "      <td>Alex J. Gutman and Jordan</td>\n",
       "      <td>4.5</td>\n",
       "      <td>169</td>\n",
       "      <td>paperback</td>\n",
       "      <td>24.49</td>\n",
       "    </tr>\n",
       "  </tbody>\n",
       "</table>\n",
       "</div>"
      ],
      "text/plain": [
       "                                                                                                             book-title  \\\n",
       "0  Machine Learning: 4 Books in 1: The #1 Beginner's Guide to Master the Basics of Python Programming, Learn the Art of   \n",
       "1                                                                                        Optimization for Data Analysis   \n",
       "2                                                  Data Smart: Using Data Science to Transform Information into Insight   \n",
       "3             Ace the Data Science Interview: 201 Real Interview Questions Asked By FAANG, Tech Startups, & Wall Street   \n",
       "4                Becoming a Data Head: How to Think, Speak and Understand Data Science, Statistics and Machine Learning   \n",
       "\n",
       "                                 author  star  buyers      cover  price $  \n",
       "0                           Andrew Park   4.5     360  paperback    25.97  \n",
       "1  Stephen J. Wright and Benjamin Recht   5.0       2  Hardcover    49.99  \n",
       "2                       John W. Foreman   4.5     344  paperback    20.49  \n",
       "3              Nick Singh and Kevin Huo   4.5     564  paperback    35.76  \n",
       "4             Alex J. Gutman and Jordan   4.5     169  paperback    24.49  "
      ]
     },
     "execution_count": 10,
     "metadata": {},
     "output_type": "execute_result"
    }
   ],
   "source": [
    "#check that the record now looks correct\n",
    "df.head()"
   ]
  },
  {
   "cell_type": "markdown",
   "id": "db8a4ca9-3ae0-4717-a006-b3ab26e90cbc",
   "metadata": {},
   "source": [
    "#### Confirm the NA values are gone:"
   ]
  },
  {
   "cell_type": "code",
   "execution_count": 11,
   "id": "21827eb4-ae09-423f-a735-34caf50f4db4",
   "metadata": {},
   "outputs": [
    {
     "data": {
      "text/plain": [
       "book-title    0\n",
       "author        0\n",
       "star          0\n",
       "buyers        0\n",
       "cover         0\n",
       "price $       0\n",
       "dtype: int64"
      ]
     },
     "execution_count": 11,
     "metadata": {},
     "output_type": "execute_result"
    }
   ],
   "source": [
    "df.isna().sum()"
   ]
  },
  {
   "cell_type": "markdown",
   "id": "86c4cbab-dfc3-4d1c-a245-39f130239877",
   "metadata": {},
   "source": [
    "### Dealing with Duplicates"
   ]
  },
  {
   "cell_type": "markdown",
   "id": "7a1739d3-973e-49c7-a348-8261cf0c3080",
   "metadata": {},
   "source": [
    "##### Now that null values are handled, we can start checking for duplicates by seeing if any titles appear more than once:"
   ]
  },
  {
   "cell_type": "code",
   "execution_count": 12,
   "id": "d3e5cb08-e952-4001-b22f-d7748ed96e08",
   "metadata": {
    "scrolled": true
   },
   "outputs": [
    {
     "data": {
      "text/plain": [
       "book-title\n",
       "Data Smart: Using Data Science to Transform Information into Insight                                          3\n",
       "Becoming a Data Head: How to Think, Speak and Understand Data Science, Statistics and Machine Learning        3\n",
       "Python for Data Analysis: Data Wrangling with Pandas, NumPy, and IPython                                      3\n",
       "Data-Driven Science and Engineering: Machine Learning, Dynamical Systems, and Control                         3\n",
       "Numerical Python: Scientific Computing and Data Science Applications with Numpy, SciPy and Matplotlib         3\n",
       "                                                                                                             ..\n",
       "Data Mesh: Delivering Data-Driven Value at Scale                                                              1\n",
       "Data Science and Big Data Analytics: Discovering, Analyzing, Visualizing and Presenting Data                  1\n",
       "Advanced Analytics with PySpark: Patterns for Learning from Data at Scale Using Python and Spark              1\n",
       "Statistics: The Art and Science of Learning from Data                                                         1\n",
       "Machine Learning for Algorithmic Trading: Predictive models to extract signals from market and alternative    1\n",
       "Name: count, Length: 182, dtype: int64"
      ]
     },
     "execution_count": 12,
     "metadata": {},
     "output_type": "execute_result"
    }
   ],
   "source": [
    "df['book-title'].value_counts()\n",
    "#this shows that some titles do appear 2 or 3 times"
   ]
  },
  {
   "cell_type": "code",
   "execution_count": 13,
   "id": "859bddc1-ebf9-435c-913d-a77ea258a6d3",
   "metadata": {
    "scrolled": true
   },
   "outputs": [
    {
     "data": {
      "text/html": [
       "<div>\n",
       "<style scoped>\n",
       "    .dataframe tbody tr th:only-of-type {\n",
       "        vertical-align: middle;\n",
       "    }\n",
       "\n",
       "    .dataframe tbody tr th {\n",
       "        vertical-align: top;\n",
       "    }\n",
       "\n",
       "    .dataframe thead th {\n",
       "        text-align: right;\n",
       "    }\n",
       "</style>\n",
       "<table border=\"1\" class=\"dataframe\">\n",
       "  <thead>\n",
       "    <tr style=\"text-align: right;\">\n",
       "      <th></th>\n",
       "      <th>book-title</th>\n",
       "      <th>author</th>\n",
       "      <th>star</th>\n",
       "      <th>buyers</th>\n",
       "      <th>cover</th>\n",
       "      <th>price $</th>\n",
       "    </tr>\n",
       "  </thead>\n",
       "  <tbody>\n",
       "    <tr>\n",
       "      <th>4</th>\n",
       "      <td>Becoming a Data Head: How to Think, Speak and Understand Data Science, Statistics and Machine Learning</td>\n",
       "      <td>Alex J. Gutman and Jordan</td>\n",
       "      <td>4.5</td>\n",
       "      <td>169</td>\n",
       "      <td>paperback</td>\n",
       "      <td>24.49</td>\n",
       "    </tr>\n",
       "    <tr>\n",
       "      <th>12</th>\n",
       "      <td>Becoming a Data Head: How to Think, Speak and Understand Data Science, Statistics and Machine Learning</td>\n",
       "      <td>Alex J. Gutman and Jordan</td>\n",
       "      <td>4.5</td>\n",
       "      <td>169</td>\n",
       "      <td>paperback</td>\n",
       "      <td>24.49</td>\n",
       "    </tr>\n",
       "    <tr>\n",
       "      <th>126</th>\n",
       "      <td>Becoming a Data Head: How to Think, Speak and Understand Data Science, Statistics and Machine Learning</td>\n",
       "      <td>Alex J. Gutman and Jordan Goldmeier</td>\n",
       "      <td>4.5</td>\n",
       "      <td>169</td>\n",
       "      <td>paperback</td>\n",
       "      <td>24.49</td>\n",
       "    </tr>\n",
       "  </tbody>\n",
       "</table>\n",
       "</div>"
      ],
      "text/plain": [
       "                                                                                                 book-title  \\\n",
       "4    Becoming a Data Head: How to Think, Speak and Understand Data Science, Statistics and Machine Learning   \n",
       "12   Becoming a Data Head: How to Think, Speak and Understand Data Science, Statistics and Machine Learning   \n",
       "126  Becoming a Data Head: How to Think, Speak and Understand Data Science, Statistics and Machine Learning   \n",
       "\n",
       "                                    author  star  buyers      cover  price $  \n",
       "4                Alex J. Gutman and Jordan   4.5     169  paperback    24.49  \n",
       "12               Alex J. Gutman and Jordan   4.5     169  paperback    24.49  \n",
       "126   Alex J. Gutman and Jordan Goldmeier    4.5     169  paperback    24.49  "
      ]
     },
     "execution_count": 13,
     "metadata": {},
     "output_type": "execute_result"
    }
   ],
   "source": [
    "#for instance, \"Becoming a Data Head\" has 3 duplicates. Of those, 2 are complete duplicates and 1 has a different author \n",
    "df[df[\"book-title\"]==\"Becoming a Data Head: How to Think, Speak and Understand Data Science, Statistics and Machine Learning\"]"
   ]
  },
  {
   "cell_type": "markdown",
   "id": "5fdffca2-e858-4832-b22a-3934499c7460",
   "metadata": {},
   "source": [
    "#### Find All Duplicates (complete and incomplete):"
   ]
  },
  {
   "cell_type": "code",
   "execution_count": 14,
   "id": "ef4f7e36-8895-49df-8a86-2cc7e29df00e",
   "metadata": {
    "scrolled": true
   },
   "outputs": [],
   "source": [
    "#use duplicated() to return boolean series that indicates which rows are duplicates\n",
    "#'subset' specifies which column to consider. 'keep = False' marks ALL duplicates in the df as True (not just the first or last occurence)\n",
    "duplicates = df.duplicated(subset = 'book-title', keep = False)"
   ]
  },
  {
   "cell_type": "code",
   "execution_count": 15,
   "id": "9f413d30-dabd-4006-bf41-fd12d800a6f9",
   "metadata": {},
   "outputs": [],
   "source": [
    "#use this duplicates bool to index our df, and then sort by title, call it duplicated_titles\n",
    "duplicated_titles = df[duplicates].sort_values(by = 'book-title')"
   ]
  },
  {
   "cell_type": "code",
   "execution_count": 16,
   "id": "e1e34b4b-e597-4f3b-a060-3361e0dfd3d1",
   "metadata": {
    "scrolled": true
   },
   "outputs": [
    {
     "name": "stdout",
     "output_type": "stream",
     "text": [
      "<class 'pandas.core.frame.DataFrame'>\n",
      "Index: 57 entries, 3 to 150\n",
      "Data columns (total 6 columns):\n",
      " #   Column      Non-Null Count  Dtype  \n",
      "---  ------      --------------  -----  \n",
      " 0   book-title  57 non-null     object \n",
      " 1   author      57 non-null     object \n",
      " 2   star        57 non-null     float64\n",
      " 3   buyers      57 non-null     int64  \n",
      " 4   cover       57 non-null     object \n",
      " 5   price $     57 non-null     float64\n",
      "dtypes: float64(2), int64(1), object(3)\n",
      "memory usage: 3.1+ KB\n"
     ]
    }
   ],
   "source": [
    "#output info for duplicated_titles. We have 57 entries that are complete or incomplete duplicates, compared to our total of 213. \n",
    "duplicated_titles.info()"
   ]
  },
  {
   "cell_type": "markdown",
   "id": "2f45781e-5fa0-4f5b-a3c4-20c605412dd7",
   "metadata": {},
   "source": [
    "#### Drop Complete Duplicates:"
   ]
  },
  {
   "cell_type": "code",
   "execution_count": 17,
   "id": "dde3cef2-d632-4030-88ec-99075b77a657",
   "metadata": {
    "scrolled": true
   },
   "outputs": [
    {
     "name": "stdout",
     "output_type": "stream",
     "text": [
      "8\n"
     ]
    }
   ],
   "source": [
    "#find number of complete duplicates (all columns, not just 'book-title', are a match)\n",
    "complete_dups = df.duplicated(keep = False).sum()\n",
    "print(complete_dups)"
   ]
  },
  {
   "cell_type": "code",
   "execution_count": 18,
   "id": "e4494c1e-4725-40fc-b991-3156926d9a51",
   "metadata": {},
   "outputs": [],
   "source": [
    "#back to our original df, drop these COMPLETE duplicates, keeping the first occurance of each\n",
    "df.drop_duplicates(keep = 'first', inplace=True)"
   ]
  },
  {
   "cell_type": "code",
   "execution_count": 19,
   "id": "994cee33-13d7-4460-856b-f6bceff4736d",
   "metadata": {},
   "outputs": [
    {
     "name": "stdout",
     "output_type": "stream",
     "text": [
      "<class 'pandas.core.frame.DataFrame'>\n",
      "Index: 209 entries, 0 to 212\n",
      "Data columns (total 6 columns):\n",
      " #   Column      Non-Null Count  Dtype  \n",
      "---  ------      --------------  -----  \n",
      " 0   book-title  209 non-null    object \n",
      " 1   author      209 non-null    object \n",
      " 2   star        209 non-null    float64\n",
      " 3   buyers      209 non-null    int64  \n",
      " 4   cover       209 non-null    object \n",
      " 5   price $     209 non-null    float64\n",
      "dtypes: float64(2), int64(1), object(3)\n",
      "memory usage: 11.4+ KB\n"
     ]
    }
   ],
   "source": [
    "#output info. After dropping the 4 complete duplicates, down to 209 entries\n",
    "df.info()"
   ]
  },
  {
   "cell_type": "code",
   "execution_count": 20,
   "id": "b3f707f5-e27b-4d3e-835e-4d95fdf7dad3",
   "metadata": {
    "scrolled": true
   },
   "outputs": [
    {
     "data": {
      "text/html": [
       "<div>\n",
       "<style scoped>\n",
       "    .dataframe tbody tr th:only-of-type {\n",
       "        vertical-align: middle;\n",
       "    }\n",
       "\n",
       "    .dataframe tbody tr th {\n",
       "        vertical-align: top;\n",
       "    }\n",
       "\n",
       "    .dataframe thead th {\n",
       "        text-align: right;\n",
       "    }\n",
       "</style>\n",
       "<table border=\"1\" class=\"dataframe\">\n",
       "  <thead>\n",
       "    <tr style=\"text-align: right;\">\n",
       "      <th></th>\n",
       "      <th>book-title</th>\n",
       "      <th>author</th>\n",
       "      <th>star</th>\n",
       "      <th>buyers</th>\n",
       "      <th>cover</th>\n",
       "      <th>price $</th>\n",
       "    </tr>\n",
       "  </thead>\n",
       "  <tbody>\n",
       "    <tr>\n",
       "      <th>174</th>\n",
       "      <td>A Thousand Brains: A New Theory of Intelligence</td>\n",
       "      <td>y Jeff Hawkins, Richard Dawkins - foreword</td>\n",
       "      <td>4.4</td>\n",
       "      <td>1345</td>\n",
       "      <td>audio book</td>\n",
       "      <td>0.00</td>\n",
       "    </tr>\n",
       "    <tr>\n",
       "      <th>3</th>\n",
       "      <td>Ace the Data Science Interview: 201 Real Interview Questions Asked By FAANG, Tech Startups, &amp; Wall Street</td>\n",
       "      <td>Nick Singh and Kevin Huo</td>\n",
       "      <td>4.5</td>\n",
       "      <td>564</td>\n",
       "      <td>paperback</td>\n",
       "      <td>35.76</td>\n",
       "    </tr>\n",
       "    <tr>\n",
       "      <th>52</th>\n",
       "      <td>Ace the Data Science Interview: 201 Real Interview Questions Asked By FAANG, Tech Startups, &amp; Wall Street</td>\n",
       "      <td>Nick Singh and Kevin Huo</td>\n",
       "      <td>4.5</td>\n",
       "      <td>546</td>\n",
       "      <td>paperback</td>\n",
       "      <td>35.76</td>\n",
       "    </tr>\n",
       "    <tr>\n",
       "      <th>113</th>\n",
       "      <td>Ace the Data Science Interview: 201 Real Interview Questions Asked By FAANG, Tech Startups, &amp;</td>\n",
       "      <td>Nick Singh and Kevin Huo</td>\n",
       "      <td>4.5</td>\n",
       "      <td>564</td>\n",
       "      <td>paperback</td>\n",
       "      <td>35.64</td>\n",
       "    </tr>\n",
       "    <tr>\n",
       "      <th>84</th>\n",
       "      <td>Advanced Analytics with PySpark: Patterns for Learning from Data at Scale Using Python and Spark</td>\n",
       "      <td>Akash Tandon , Sandy Ryza</td>\n",
       "      <td>5.0</td>\n",
       "      <td>1</td>\n",
       "      <td>paperback</td>\n",
       "      <td>45.99</td>\n",
       "    </tr>\n",
       "    <tr>\n",
       "      <th>...</th>\n",
       "      <td>...</td>\n",
       "      <td>...</td>\n",
       "      <td>...</td>\n",
       "      <td>...</td>\n",
       "      <td>...</td>\n",
       "      <td>...</td>\n",
       "    </tr>\n",
       "    <tr>\n",
       "      <th>158</th>\n",
       "      <td>Transformers for Natural Language Processing: Build, train, and fine-tune deep neural network architectures for NLP</td>\n",
       "      <td>Denis Rothman</td>\n",
       "      <td>4.3</td>\n",
       "      <td>28</td>\n",
       "      <td>paperback</td>\n",
       "      <td>34.99</td>\n",
       "    </tr>\n",
       "    <tr>\n",
       "      <th>183</th>\n",
       "      <td>You Look Like a Thing and I Love You: How Artificial Intelligence Works and Why It's Making the World a Weirder</td>\n",
       "      <td>Janelle Shane</td>\n",
       "      <td>4.4</td>\n",
       "      <td>581</td>\n",
       "      <td>paperback</td>\n",
       "      <td>15.99</td>\n",
       "    </tr>\n",
       "    <tr>\n",
       "      <th>170</th>\n",
       "      <td>Yue Zhang and Zhiyang Teng</td>\n",
       "      <td>Christopher D. Manning and Hinrich Schütze</td>\n",
       "      <td>4.4</td>\n",
       "      <td>61</td>\n",
       "      <td>Hardcover</td>\n",
       "      <td>88.35</td>\n",
       "    </tr>\n",
       "    <tr>\n",
       "      <th>33</th>\n",
       "      <td>Daniel Vaughan</td>\n",
       "      <td>Chip Huyen</td>\n",
       "      <td>4.5</td>\n",
       "      <td>82</td>\n",
       "      <td>paperback</td>\n",
       "      <td>43.49</td>\n",
       "    </tr>\n",
       "    <tr>\n",
       "      <th>19</th>\n",
       "      <td>Steven L. Brunton and J. Nathan</td>\n",
       "      <td>Justin Grimmer , Margaret E.</td>\n",
       "      <td>4.5</td>\n",
       "      <td>13</td>\n",
       "      <td>paperback</td>\n",
       "      <td>35.99</td>\n",
       "    </tr>\n",
       "  </tbody>\n",
       "</table>\n",
       "<p>209 rows × 6 columns</p>\n",
       "</div>"
      ],
      "text/plain": [
       "                                                                                                              book-title  \\\n",
       "174                                                                      A Thousand Brains: A New Theory of Intelligence   \n",
       "3              Ace the Data Science Interview: 201 Real Interview Questions Asked By FAANG, Tech Startups, & Wall Street   \n",
       "52             Ace the Data Science Interview: 201 Real Interview Questions Asked By FAANG, Tech Startups, & Wall Street   \n",
       "113                       Ace the Data Science Interview: 201 Real Interview Questions Asked By FAANG, Tech Startups, &    \n",
       "84                      Advanced Analytics with PySpark: Patterns for Learning from Data at Scale Using Python and Spark   \n",
       "..                                                                                                                   ...   \n",
       "158  Transformers for Natural Language Processing: Build, train, and fine-tune deep neural network architectures for NLP   \n",
       "183      You Look Like a Thing and I Love You: How Artificial Intelligence Works and Why It's Making the World a Weirder   \n",
       "170                                                                                           Yue Zhang and Zhiyang Teng   \n",
       "33                                                                                                        Daniel Vaughan   \n",
       "19                                                                                       Steven L. Brunton and J. Nathan   \n",
       "\n",
       "                                          author  star  buyers       cover  \\\n",
       "174   y Jeff Hawkins, Richard Dawkins - foreword   4.4    1345  audio book   \n",
       "3                       Nick Singh and Kevin Huo   4.5     564   paperback   \n",
       "52                     Nick Singh and Kevin Huo    4.5     546   paperback   \n",
       "113                    Nick Singh and Kevin Huo    4.5     564   paperback   \n",
       "84                     Akash Tandon , Sandy Ryza   5.0       1   paperback   \n",
       "..                                           ...   ...     ...         ...   \n",
       "158                                Denis Rothman   4.3      28   paperback   \n",
       "183                                Janelle Shane   4.4     581   paperback   \n",
       "170   Christopher D. Manning and Hinrich Schütze   4.4      61   Hardcover   \n",
       "33                                   Chip Huyen    4.5      82   paperback   \n",
       "19                  Justin Grimmer , Margaret E.   4.5      13   paperback   \n",
       "\n",
       "     price $  \n",
       "174     0.00  \n",
       "3      35.76  \n",
       "52     35.76  \n",
       "113    35.64  \n",
       "84     45.99  \n",
       "..       ...  \n",
       "158    34.99  \n",
       "183    15.99  \n",
       "170    88.35  \n",
       "33     43.49  \n",
       "19     35.99  \n",
       "\n",
       "[209 rows x 6 columns]"
      ]
     },
     "execution_count": 20,
     "metadata": {},
     "output_type": "execute_result"
    }
   ],
   "source": [
    "df.sort_values(by = 'book-title')\n",
    "#printing our updated df, sorted by 'book-title', shows we still have (incomplete) duplicates to handle"
   ]
  },
  {
   "cell_type": "markdown",
   "id": "70aafafa-0173-4a69-a447-86becfa3d483",
   "metadata": {},
   "source": [
    "#### Evaluate Incomplete Duplicates:"
   ]
  },
  {
   "cell_type": "code",
   "execution_count": 21,
   "id": "7362e931-32e6-4272-bf84-304f0645d0b7",
   "metadata": {
    "scrolled": true
   },
   "outputs": [
    {
     "name": "stdout",
     "output_type": "stream",
     "text": [
      "<class 'pandas.core.frame.DataFrame'>\n",
      "Index: 53 entries, 3 to 158\n",
      "Data columns (total 6 columns):\n",
      " #   Column      Non-Null Count  Dtype  \n",
      "---  ------      --------------  -----  \n",
      " 0   book-title  53 non-null     object \n",
      " 1   author      53 non-null     object \n",
      " 2   star        53 non-null     float64\n",
      " 3   buyers      53 non-null     int64  \n",
      " 4   cover       53 non-null     object \n",
      " 5   price $     53 non-null     float64\n",
      "dtypes: float64(2), int64(1), object(3)\n",
      "memory usage: 2.9+ KB\n"
     ]
    },
    {
     "name": "stderr",
     "output_type": "stream",
     "text": [
      "/var/folders/p7/028f_3rd0697ln7wbc456h0w0000gn/T/ipykernel_46223/1620220217.py:2: UserWarning: Boolean Series key will be reindexed to match DataFrame index.\n",
      "  incomp_dups = df[duplicates].sort_values(by = 'book-title')\n"
     ]
    }
   ],
   "source": [
    "#look at incomplete duplicates\n",
    "incomp_dups = df[duplicates].sort_values(by = 'book-title')\n",
    "incomp_dups.info()"
   ]
  },
  {
   "cell_type": "code",
   "execution_count": 22,
   "id": "9b7984b1-3f69-4200-a2e1-7c8c1db5d247",
   "metadata": {},
   "outputs": [
    {
     "data": {
      "text/html": [
       "<div>\n",
       "<style scoped>\n",
       "    .dataframe tbody tr th:only-of-type {\n",
       "        vertical-align: middle;\n",
       "    }\n",
       "\n",
       "    .dataframe tbody tr th {\n",
       "        vertical-align: top;\n",
       "    }\n",
       "\n",
       "    .dataframe thead th {\n",
       "        text-align: right;\n",
       "    }\n",
       "</style>\n",
       "<table border=\"1\" class=\"dataframe\">\n",
       "  <thead>\n",
       "    <tr style=\"text-align: right;\">\n",
       "      <th></th>\n",
       "      <th>book-title</th>\n",
       "      <th>author</th>\n",
       "      <th>star</th>\n",
       "      <th>buyers</th>\n",
       "      <th>cover</th>\n",
       "      <th>price $</th>\n",
       "    </tr>\n",
       "  </thead>\n",
       "  <tbody>\n",
       "    <tr>\n",
       "      <th>3</th>\n",
       "      <td>Ace the Data Science Interview: 201 Real Interview Questions Asked By FAANG, Tech Startups, &amp; Wall Street</td>\n",
       "      <td>Nick Singh and Kevin Huo</td>\n",
       "      <td>4.5</td>\n",
       "      <td>564</td>\n",
       "      <td>paperback</td>\n",
       "      <td>35.76</td>\n",
       "    </tr>\n",
       "    <tr>\n",
       "      <th>52</th>\n",
       "      <td>Ace the Data Science Interview: 201 Real Interview Questions Asked By FAANG, Tech Startups, &amp; Wall Street</td>\n",
       "      <td>Nick Singh and Kevin Huo</td>\n",
       "      <td>4.5</td>\n",
       "      <td>546</td>\n",
       "      <td>paperback</td>\n",
       "      <td>35.76</td>\n",
       "    </tr>\n",
       "    <tr>\n",
       "      <th>212</th>\n",
       "      <td>Advanced Deep Learning with TensorFlow 2 and Keras: Apply DL, GANs, VAEs, deep RL, unsupervised learning,</td>\n",
       "      <td>Rowel Atienza</td>\n",
       "      <td>4.3</td>\n",
       "      <td>60</td>\n",
       "      <td>paperback</td>\n",
       "      <td>39.99</td>\n",
       "    </tr>\n",
       "    <tr>\n",
       "      <th>135</th>\n",
       "      <td>Advanced Deep Learning with TensorFlow 2 and Keras: Apply DL, GANs, VAEs, deep RL, unsupervised learning,</td>\n",
       "      <td>Rowel Atienza</td>\n",
       "      <td>4.5</td>\n",
       "      <td>60</td>\n",
       "      <td>kindle</td>\n",
       "      <td>17.19</td>\n",
       "    </tr>\n",
       "    <tr>\n",
       "      <th>4</th>\n",
       "      <td>Becoming a Data Head: How to Think, Speak and Understand Data Science, Statistics and Machine Learning</td>\n",
       "      <td>Alex J. Gutman and Jordan</td>\n",
       "      <td>4.5</td>\n",
       "      <td>169</td>\n",
       "      <td>paperback</td>\n",
       "      <td>24.49</td>\n",
       "    </tr>\n",
       "  </tbody>\n",
       "</table>\n",
       "</div>"
      ],
      "text/plain": [
       "                                                                                                    book-title  \\\n",
       "3    Ace the Data Science Interview: 201 Real Interview Questions Asked By FAANG, Tech Startups, & Wall Street   \n",
       "52   Ace the Data Science Interview: 201 Real Interview Questions Asked By FAANG, Tech Startups, & Wall Street   \n",
       "212  Advanced Deep Learning with TensorFlow 2 and Keras: Apply DL, GANs, VAEs, deep RL, unsupervised learning,   \n",
       "135  Advanced Deep Learning with TensorFlow 2 and Keras: Apply DL, GANs, VAEs, deep RL, unsupervised learning,   \n",
       "4       Becoming a Data Head: How to Think, Speak and Understand Data Science, Statistics and Machine Learning   \n",
       "\n",
       "                         author  star  buyers      cover  price $  \n",
       "3      Nick Singh and Kevin Huo   4.5     564  paperback    35.76  \n",
       "52    Nick Singh and Kevin Huo    4.5     546  paperback    35.76  \n",
       "212               Rowel Atienza   4.3      60  paperback    39.99  \n",
       "135               Rowel Atienza   4.5      60     kindle    17.19  \n",
       "4     Alex J. Gutman and Jordan   4.5     169  paperback    24.49  "
      ]
     },
     "execution_count": 22,
     "metadata": {},
     "output_type": "execute_result"
    }
   ],
   "source": [
    "incomp_dups.head()"
   ]
  },
  {
   "cell_type": "markdown",
   "id": "b0bc9227-3fa8-43a8-b9bc-6b6eb29228b0",
   "metadata": {},
   "source": [
    "#### After dropping our complete duplicates, we still have 53 incomplete duplicates.\n",
    "These are entries that share the same 'book-title', but might have differences in other fields ('author' spelling, 'star' rating, number of 'buyers', 'cover' type, 'price $').<br>\n",
    "To handle these incomplete duplicates, we can merge the entries into one and combine their numerical values using aggregations."
   ]
  },
  {
   "cell_type": "code",
   "execution_count": 23,
   "id": "c048f478-781a-42be-a8d2-15720149e9da",
   "metadata": {},
   "outputs": [],
   "source": [
    "#first create statistics dictionary that indicates how to aggregate the values\n",
    "statistics = {'author': 'max', 'star': 'mean', 'buyers': 'sum', 'price $': 'mean'} \n",
    "#create new 'unique' df that groups by 'book-title' and 'cover', use 'statistics' dictionary to calculate aggregations\n",
    "unique = df.groupby(['book-title', 'cover']).agg(statistics).reset_index().round({'star': 2, 'price $': 2})"
   ]
  },
  {
   "cell_type": "code",
   "execution_count": 24,
   "id": "48f0eece-d9ee-47c9-bba3-65a5ee8e4ce6",
   "metadata": {},
   "outputs": [
    {
     "name": "stdout",
     "output_type": "stream",
     "text": [
      "<class 'pandas.core.frame.DataFrame'>\n",
      "RangeIndex: 183 entries, 0 to 182\n",
      "Data columns (total 6 columns):\n",
      " #   Column      Non-Null Count  Dtype  \n",
      "---  ------      --------------  -----  \n",
      " 0   book-title  183 non-null    object \n",
      " 1   cover       183 non-null    object \n",
      " 2   author      183 non-null    object \n",
      " 3   star        183 non-null    float64\n",
      " 4   buyers      183 non-null    int64  \n",
      " 5   price $     183 non-null    float64\n",
      "dtypes: float64(2), int64(1), object(3)\n",
      "memory usage: 8.7+ KB\n"
     ]
    }
   ],
   "source": [
    "unique.info()"
   ]
  },
  {
   "cell_type": "code",
   "execution_count": 25,
   "id": "a4e95a92-8023-44ce-897a-18a41d807077",
   "metadata": {
    "scrolled": true
   },
   "outputs": [
    {
     "data": {
      "text/html": [
       "<div>\n",
       "<style scoped>\n",
       "    .dataframe tbody tr th:only-of-type {\n",
       "        vertical-align: middle;\n",
       "    }\n",
       "\n",
       "    .dataframe tbody tr th {\n",
       "        vertical-align: top;\n",
       "    }\n",
       "\n",
       "    .dataframe thead th {\n",
       "        text-align: right;\n",
       "    }\n",
       "</style>\n",
       "<table border=\"1\" class=\"dataframe\">\n",
       "  <thead>\n",
       "    <tr style=\"text-align: right;\">\n",
       "      <th></th>\n",
       "      <th>book-title</th>\n",
       "      <th>cover</th>\n",
       "      <th>author</th>\n",
       "      <th>star</th>\n",
       "      <th>buyers</th>\n",
       "      <th>price $</th>\n",
       "    </tr>\n",
       "  </thead>\n",
       "  <tbody>\n",
       "    <tr>\n",
       "      <th>0</th>\n",
       "      <td>A Thousand Brains: A New Theory of Intelligence</td>\n",
       "      <td>audio book</td>\n",
       "      <td>y Jeff Hawkins, Richard Dawkins - foreword</td>\n",
       "      <td>4.4</td>\n",
       "      <td>1345</td>\n",
       "      <td>0.00</td>\n",
       "    </tr>\n",
       "    <tr>\n",
       "      <th>1</th>\n",
       "      <td>Ace the Data Science Interview: 201 Real Interview Questions Asked By FAANG, Tech Startups, &amp; Wall Street</td>\n",
       "      <td>paperback</td>\n",
       "      <td>Nick Singh and Kevin Huo</td>\n",
       "      <td>4.5</td>\n",
       "      <td>1110</td>\n",
       "      <td>35.76</td>\n",
       "    </tr>\n",
       "    <tr>\n",
       "      <th>2</th>\n",
       "      <td>Ace the Data Science Interview: 201 Real Interview Questions Asked By FAANG, Tech Startups, &amp;</td>\n",
       "      <td>paperback</td>\n",
       "      <td>Nick Singh and Kevin Huo</td>\n",
       "      <td>4.5</td>\n",
       "      <td>564</td>\n",
       "      <td>35.64</td>\n",
       "    </tr>\n",
       "    <tr>\n",
       "      <th>3</th>\n",
       "      <td>Advanced Analytics with PySpark: Patterns for Learning from Data at Scale Using Python and Spark</td>\n",
       "      <td>paperback</td>\n",
       "      <td>Akash Tandon , Sandy Ryza</td>\n",
       "      <td>5.0</td>\n",
       "      <td>1</td>\n",
       "      <td>45.99</td>\n",
       "    </tr>\n",
       "    <tr>\n",
       "      <th>4</th>\n",
       "      <td>Advanced Deep Learning with Python: Design and implement advanced next-generation AI solutions using</td>\n",
       "      <td>paperback</td>\n",
       "      <td>Ivan Vasilev</td>\n",
       "      <td>4.5</td>\n",
       "      <td>30</td>\n",
       "      <td>44.99</td>\n",
       "    </tr>\n",
       "    <tr>\n",
       "      <th>...</th>\n",
       "      <td>...</td>\n",
       "      <td>...</td>\n",
       "      <td>...</td>\n",
       "      <td>...</td>\n",
       "      <td>...</td>\n",
       "      <td>...</td>\n",
       "    </tr>\n",
       "    <tr>\n",
       "      <th>178</th>\n",
       "      <td>Transformers for Natural Language Processing: Build, train, and fine-tune deep neural network architectures for NLP</td>\n",
       "      <td>paperback</td>\n",
       "      <td>Denis Rothman and Antonio</td>\n",
       "      <td>4.4</td>\n",
       "      <td>56</td>\n",
       "      <td>34.99</td>\n",
       "    </tr>\n",
       "    <tr>\n",
       "      <th>179</th>\n",
       "      <td>You Look Like a Thing and I Love You: How Artificial Intelligence Works and Why It's Making the World a Weirder</td>\n",
       "      <td>paperback</td>\n",
       "      <td>Janelle Shane</td>\n",
       "      <td>4.4</td>\n",
       "      <td>581</td>\n",
       "      <td>15.99</td>\n",
       "    </tr>\n",
       "    <tr>\n",
       "      <th>180</th>\n",
       "      <td>Yue Zhang and Zhiyang Teng</td>\n",
       "      <td>Hardcover</td>\n",
       "      <td>Christopher D. Manning and Hinrich Schütze</td>\n",
       "      <td>4.4</td>\n",
       "      <td>61</td>\n",
       "      <td>88.35</td>\n",
       "    </tr>\n",
       "    <tr>\n",
       "      <th>181</th>\n",
       "      <td>Daniel Vaughan</td>\n",
       "      <td>paperback</td>\n",
       "      <td>Chip Huyen</td>\n",
       "      <td>4.5</td>\n",
       "      <td>82</td>\n",
       "      <td>43.49</td>\n",
       "    </tr>\n",
       "    <tr>\n",
       "      <th>182</th>\n",
       "      <td>Steven L. Brunton and J. Nathan</td>\n",
       "      <td>paperback</td>\n",
       "      <td>Justin Grimmer , Margaret E.</td>\n",
       "      <td>4.5</td>\n",
       "      <td>13</td>\n",
       "      <td>35.99</td>\n",
       "    </tr>\n",
       "  </tbody>\n",
       "</table>\n",
       "<p>183 rows × 6 columns</p>\n",
       "</div>"
      ],
      "text/plain": [
       "                                                                                                              book-title  \\\n",
       "0                                                                        A Thousand Brains: A New Theory of Intelligence   \n",
       "1              Ace the Data Science Interview: 201 Real Interview Questions Asked By FAANG, Tech Startups, & Wall Street   \n",
       "2                         Ace the Data Science Interview: 201 Real Interview Questions Asked By FAANG, Tech Startups, &    \n",
       "3                       Advanced Analytics with PySpark: Patterns for Learning from Data at Scale Using Python and Spark   \n",
       "4                   Advanced Deep Learning with Python: Design and implement advanced next-generation AI solutions using   \n",
       "..                                                                                                                   ...   \n",
       "178  Transformers for Natural Language Processing: Build, train, and fine-tune deep neural network architectures for NLP   \n",
       "179      You Look Like a Thing and I Love You: How Artificial Intelligence Works and Why It's Making the World a Weirder   \n",
       "180                                                                                           Yue Zhang and Zhiyang Teng   \n",
       "181                                                                                                       Daniel Vaughan   \n",
       "182                                                                                      Steven L. Brunton and J. Nathan   \n",
       "\n",
       "          cover                                       author  star  buyers  \\\n",
       "0    audio book   y Jeff Hawkins, Richard Dawkins - foreword   4.4    1345   \n",
       "1     paperback                     Nick Singh and Kevin Huo   4.5    1110   \n",
       "2     paperback                    Nick Singh and Kevin Huo    4.5     564   \n",
       "3     paperback                    Akash Tandon , Sandy Ryza   5.0       1   \n",
       "4     paperback                                Ivan Vasilev    4.5      30   \n",
       "..          ...                                          ...   ...     ...   \n",
       "178   paperback                    Denis Rothman and Antonio   4.4      56   \n",
       "179   paperback                                Janelle Shane   4.4     581   \n",
       "180   Hardcover   Christopher D. Manning and Hinrich Schütze   4.4      61   \n",
       "181   paperback                                  Chip Huyen    4.5      82   \n",
       "182   paperback                 Justin Grimmer , Margaret E.   4.5      13   \n",
       "\n",
       "     price $  \n",
       "0       0.00  \n",
       "1      35.76  \n",
       "2      35.64  \n",
       "3      45.99  \n",
       "4      44.99  \n",
       "..       ...  \n",
       "178    34.99  \n",
       "179    15.99  \n",
       "180    88.35  \n",
       "181    43.49  \n",
       "182    35.99  \n",
       "\n",
       "[183 rows x 6 columns]"
      ]
     },
     "execution_count": 25,
     "metadata": {},
     "output_type": "execute_result"
    }
   ],
   "source": [
    "unique"
   ]
  },
  {
   "cell_type": "markdown",
   "id": "74352549-3609-4ad5-80b9-98cbc3779985",
   "metadata": {},
   "source": [
    "Even after dropping our incomplete duplicates, we can still see multiple records that clearly refer to the same book. For example, the 2nd and 3rd records (\"Ace the Data Science Interview\") weren't identified/combined as duplicates with our aggregate dictionary because \"Wall Street\" is missing from the end of the 'book-title' string for one of the records, i.e. the titles don't match exactly. Since the titles are so similar and they share the same authors, we can safely combine these two records into one. \n",
    "\n",
    "#### Looking through the dataframe, more case-specific issues like this pop out... Here's a list of problems and how to fix them:"
   ]
  },
  {
   "cell_type": "markdown",
   "id": "c1fd9943-7c84-4b0c-9ffb-f7edc4f1dc71",
   "metadata": {},
   "source": [
    "    #[1][2]          PROBLEM: [2] is missing \"wall street\"\n",
    "                        FIX: update [1]'s 'buyers' to be the sum of both [1] and [2]'s 'buyers', then drop [2]\n",
    "    #[34][35]        PROBLEM: [35] has extra \", 1st Edition,\" and has 0 buyers\n",
    "                        FIX: drop [35]\n",
    "    #[60][61]        PROBLEM: [60] is missing \"statistics\", otherwise exact copy of [61]\n",
    "                        FIX: drop [60]\n",
    "    #[88][89]        PROBLEM: [89] has  extra \",\" at the end \n",
    "                        FIX: update [88]'s 'buyers' to be the sum of both [88] and [89]'s 'buyers', then drop [89]\n",
    "    #[99][100]       PROBLEM: Same book\n",
    "                        FIX: drop [99], fix [100]'s truncated title\n",
    "    #[129][130]      PROBLEM: Same book, slightly different title \n",
    "                        FIX: update [130]'s 'price' and 'buyers' to be sum, then drop [129]\n",
    "    #[141][142]      PROBLEM: Same book, slightly different title \n",
    "                        FIX: update [142]'s 'star' rating to be average and 'price' to be sum, then drop [141]\n",
    "    #[106]           PROBLEM:'book-title' contains an author's name\n",
    "                        FIX: drop [106]\n",
    "    #[103][143]      PROBLEM: author name has '?'\n",
    "                        FIX: .str.replace('?')\n",
    "    #[104]           PROBLEM: no author\n",
    "                        FIX: drop [104]\n",
    "    #[116]           PROBLEM: no author\n",
    "                        FIX: drop [116]\n",
    "    #[139][140]      PROBLEM: no author\n",
    "                        FIX: drop [139][140]\n",
    "    #[180][181][182] PROBLEM:  author names in both 'author' and 'book-title' (no titles)\n",
    "                        FIX: drop [180][181][182]\n",
    "\n"
   ]
  },
  {
   "cell_type": "markdown",
   "id": "8fafe23d-b956-4ff1-9a15-99882a3c9bea",
   "metadata": {},
   "source": [
    "#### Now, we can go through our above list of issues to finish up the cleaning process:"
   ]
  },
  {
   "cell_type": "code",
   "execution_count": 26,
   "id": "fd3f3cb5-4d74-400a-ac4a-2f056895e1e1",
   "metadata": {
    "scrolled": true
   },
   "outputs": [],
   "source": [
    "#remove any row that's a fuzzy duplicate of another\n",
    "unique = unique.drop([2, 60, 89, 99, 104, 106, 116, 129, 139, 140, 141, 180, 181, 182], axis=0)\n",
    "#adjust 'buyers' values of records we're keeping to reflect the sum of buyers across duplicate entries (in cases where that makes logical sense)\n",
    "#if price is very different between the 2 duplicates, adjust 'price $' on kept record to reflect the average \n",
    "unique.loc[1, 'buyers'] = 1674\n",
    "unique.loc[88, 'buyers'] = 180\n",
    "unique.loc[130, 'buyers'] = 1028\n",
    "unique.loc[130, 'price $'] = 59.89 #avg of kept and dropped records' 'price $'\n",
    "unique.loc[142, 'star'] = 4.4\n",
    "unique.loc[142, 'price $'] = 50.69 #avg"
   ]
  },
  {
   "cell_type": "code",
   "execution_count": 27,
   "id": "08951f9b-09ea-4097-8fa8-d533f8c618ca",
   "metadata": {
    "scrolled": true
   },
   "outputs": [
    {
     "data": {
      "text/html": [
       "<div>\n",
       "<style scoped>\n",
       "    .dataframe tbody tr th:only-of-type {\n",
       "        vertical-align: middle;\n",
       "    }\n",
       "\n",
       "    .dataframe tbody tr th {\n",
       "        vertical-align: top;\n",
       "    }\n",
       "\n",
       "    .dataframe thead th {\n",
       "        text-align: right;\n",
       "    }\n",
       "</style>\n",
       "<table border=\"1\" class=\"dataframe\">\n",
       "  <thead>\n",
       "    <tr style=\"text-align: right;\">\n",
       "      <th></th>\n",
       "      <th>book-title</th>\n",
       "      <th>cover</th>\n",
       "      <th>author</th>\n",
       "      <th>star</th>\n",
       "      <th>buyers</th>\n",
       "      <th>price $</th>\n",
       "    </tr>\n",
       "  </thead>\n",
       "  <tbody>\n",
       "    <tr>\n",
       "      <th>0</th>\n",
       "      <td>A Thousand Brains: A New Theory of Intelligence</td>\n",
       "      <td>audio book</td>\n",
       "      <td>y Jeff Hawkins, Richard Dawkins - foreword</td>\n",
       "      <td>4.4</td>\n",
       "      <td>1345</td>\n",
       "      <td>0.00</td>\n",
       "    </tr>\n",
       "    <tr>\n",
       "      <th>1</th>\n",
       "      <td>Ace the Data Science Interview: 201 Real Interview Questions Asked By FAANG, Tech Startups, &amp; Wall Street</td>\n",
       "      <td>paperback</td>\n",
       "      <td>Nick Singh and Kevin Huo</td>\n",
       "      <td>4.5</td>\n",
       "      <td>1674</td>\n",
       "      <td>35.76</td>\n",
       "    </tr>\n",
       "    <tr>\n",
       "      <th>3</th>\n",
       "      <td>Advanced Analytics with PySpark: Patterns for Learning from Data at Scale Using Python and Spark</td>\n",
       "      <td>paperback</td>\n",
       "      <td>Akash Tandon , Sandy Ryza</td>\n",
       "      <td>5.0</td>\n",
       "      <td>1</td>\n",
       "      <td>45.99</td>\n",
       "    </tr>\n",
       "    <tr>\n",
       "      <th>4</th>\n",
       "      <td>Advanced Deep Learning with Python: Design and implement advanced next-generation AI solutions using</td>\n",
       "      <td>paperback</td>\n",
       "      <td>Ivan Vasilev</td>\n",
       "      <td>4.5</td>\n",
       "      <td>30</td>\n",
       "      <td>44.99</td>\n",
       "    </tr>\n",
       "    <tr>\n",
       "      <th>5</th>\n",
       "      <td>Advanced Deep Learning with TensorFlow 2 and Keras: Apply DL, GANs, VAEs, deep RL, unsupervised learning,</td>\n",
       "      <td>kindle</td>\n",
       "      <td>Rowel Atienza</td>\n",
       "      <td>4.5</td>\n",
       "      <td>60</td>\n",
       "      <td>17.19</td>\n",
       "    </tr>\n",
       "    <tr>\n",
       "      <th>...</th>\n",
       "      <td>...</td>\n",
       "      <td>...</td>\n",
       "      <td>...</td>\n",
       "      <td>...</td>\n",
       "      <td>...</td>\n",
       "      <td>...</td>\n",
       "    </tr>\n",
       "    <tr>\n",
       "      <th>175</th>\n",
       "      <td>The StatQuest Illustrated Guide To Machine Learning</td>\n",
       "      <td>paperback</td>\n",
       "      <td>Josh Starmer PhD</td>\n",
       "      <td>5.0</td>\n",
       "      <td>237</td>\n",
       "      <td>21.28</td>\n",
       "    </tr>\n",
       "    <tr>\n",
       "      <th>176</th>\n",
       "      <td>The TensorFlow Workshop: A hands-on guide to building deep learning models from scratch using real-world</td>\n",
       "      <td>paperback</td>\n",
       "      <td>Matthew Moocarme, Anthony S</td>\n",
       "      <td>4.5</td>\n",
       "      <td>26</td>\n",
       "      <td>41.99</td>\n",
       "    </tr>\n",
       "    <tr>\n",
       "      <th>177</th>\n",
       "      <td>Thinking Clearly with Data: A Guide to Quantitative Reasoning and Analysis</td>\n",
       "      <td>paperback</td>\n",
       "      <td>Ethan Bueno de Mesquita and Anthony</td>\n",
       "      <td>4.0</td>\n",
       "      <td>62</td>\n",
       "      <td>29.95</td>\n",
       "    </tr>\n",
       "    <tr>\n",
       "      <th>178</th>\n",
       "      <td>Transformers for Natural Language Processing: Build, train, and fine-tune deep neural network architectures for NLP</td>\n",
       "      <td>paperback</td>\n",
       "      <td>Denis Rothman and Antonio</td>\n",
       "      <td>4.4</td>\n",
       "      <td>56</td>\n",
       "      <td>34.99</td>\n",
       "    </tr>\n",
       "    <tr>\n",
       "      <th>179</th>\n",
       "      <td>You Look Like a Thing and I Love You: How Artificial Intelligence Works and Why It's Making the World a Weirder</td>\n",
       "      <td>paperback</td>\n",
       "      <td>Janelle Shane</td>\n",
       "      <td>4.4</td>\n",
       "      <td>581</td>\n",
       "      <td>15.99</td>\n",
       "    </tr>\n",
       "  </tbody>\n",
       "</table>\n",
       "<p>161 rows × 6 columns</p>\n",
       "</div>"
      ],
      "text/plain": [
       "                                                                                                              book-title  \\\n",
       "0                                                                        A Thousand Brains: A New Theory of Intelligence   \n",
       "1              Ace the Data Science Interview: 201 Real Interview Questions Asked By FAANG, Tech Startups, & Wall Street   \n",
       "3                       Advanced Analytics with PySpark: Patterns for Learning from Data at Scale Using Python and Spark   \n",
       "4                   Advanced Deep Learning with Python: Design and implement advanced next-generation AI solutions using   \n",
       "5              Advanced Deep Learning with TensorFlow 2 and Keras: Apply DL, GANs, VAEs, deep RL, unsupervised learning,   \n",
       "..                                                                                                                   ...   \n",
       "175                                                                  The StatQuest Illustrated Guide To Machine Learning   \n",
       "176             The TensorFlow Workshop: A hands-on guide to building deep learning models from scratch using real-world   \n",
       "177                                           Thinking Clearly with Data: A Guide to Quantitative Reasoning and Analysis   \n",
       "178  Transformers for Natural Language Processing: Build, train, and fine-tune deep neural network architectures for NLP   \n",
       "179      You Look Like a Thing and I Love You: How Artificial Intelligence Works and Why It's Making the World a Weirder   \n",
       "\n",
       "          cover                                      author  star  buyers  \\\n",
       "0    audio book  y Jeff Hawkins, Richard Dawkins - foreword   4.4    1345   \n",
       "1     paperback                    Nick Singh and Kevin Huo   4.5    1674   \n",
       "3     paperback                   Akash Tandon , Sandy Ryza   5.0       1   \n",
       "4     paperback                               Ivan Vasilev    4.5      30   \n",
       "5        kindle                               Rowel Atienza   4.5      60   \n",
       "..          ...                                         ...   ...     ...   \n",
       "175   paperback                            Josh Starmer PhD   5.0     237   \n",
       "176   paperback                 Matthew Moocarme, Anthony S   4.5      26   \n",
       "177   paperback        Ethan Bueno de Mesquita and Anthony    4.0      62   \n",
       "178   paperback                   Denis Rothman and Antonio   4.4      56   \n",
       "179   paperback                               Janelle Shane   4.4     581   \n",
       "\n",
       "     price $  \n",
       "0       0.00  \n",
       "1      35.76  \n",
       "3      45.99  \n",
       "4      44.99  \n",
       "5      17.19  \n",
       "..       ...  \n",
       "175    21.28  \n",
       "176    41.99  \n",
       "177    29.95  \n",
       "178    34.99  \n",
       "179    15.99  \n",
       "\n",
       "[161 rows x 6 columns]"
      ]
     },
     "execution_count": 27,
     "metadata": {},
     "output_type": "execute_result"
    }
   ],
   "source": [
    "#remove question marks from authors' names\n",
    "unique['author'] = unique['author'].astype('string')\n",
    "unique['author'] = unique['author'].str.replace('?','')\n",
    "#edit titles/author names for clarity and completeness\n",
    "unique['book-title'] = np.where(unique['book-title'] == 'Python Machine Learning: Machine Learning and Deep Learning with Python, scikit-learn, and TensorFlow 2, 3rd',\n",
    "                           'Python Machine Learning - Third Edition: Machine Learning and Deep Learning with Python, scikit-learn, and TensorFlow 2', unique['book-title'])\n",
    "unique['book-title'] = np.where(unique['book-title'] == 'Python Machine Learning - Second Edition: Machine Learning and Deep Learning with Python, scikit-learn,',\n",
    "                           'Python Machine Learning - Second Edition: Machine Learning and Deep Learning with Python, scikit-learn, and TensorFlow 2', unique['book-title'])\n",
    "suffix = ' Data Science and Build Artificial Intelligence'\n",
    "unique.loc[100, 'book-title'] = unique.loc[100, 'book-title'] + suffix\n",
    "unique.loc[138, 'author'] = 'Yuxi (Hayden) Liu'\n",
    "#change 'Hardcover' to lowercase\n",
    "unique['cover'] = unique['cover'].str.lower()\n",
    "#drop any titles with 0 buyers\n",
    "unique = unique[unique.buyers != 0]\n",
    "\n",
    "unique"
   ]
  },
  {
   "cell_type": "markdown",
   "id": "a6900c98-0f6e-4476-b32e-40a338380624",
   "metadata": {},
   "source": [
    "### Finally, our data is reasonably clean!"
   ]
  },
  {
   "cell_type": "markdown",
   "id": "c1853988-f317-4690-881b-047c01c32ff1",
   "metadata": {},
   "source": [
    "## Step 4: Visualize"
   ]
  },
  {
   "cell_type": "markdown",
   "id": "ab699423-4fa3-46c1-921f-c6dc9fde7abe",
   "metadata": {},
   "source": [
    "#### Next up, we can build some visualizations to better understand the dataset as a whole and how the individual variables relate. <br> First, let's look at cover type more closely. "
   ]
  },
  {
   "cell_type": "markdown",
   "id": "709f25a0-cc79-44c8-81f2-d4476d34be49",
   "metadata": {},
   "source": [
    "### Which cover type has the best sales? "
   ]
  },
  {
   "cell_type": "code",
   "execution_count": 28,
   "id": "55f59cd9-e5d1-40b3-8dc0-b48e52c873fb",
   "metadata": {},
   "outputs": [
    {
     "data": {
      "text/plain": [
       "Text(0.5, 1.0, 'Total Sales by Cover Type')"
      ]
     },
     "execution_count": 28,
     "metadata": {},
     "output_type": "execute_result"
    },
    {
     "data": {
      "image/png": "[encoded data removed]",
      "text/plain": [
       "<Figure size 640x480 with 1 Axes>"
      ]
     },
     "metadata": {},
     "output_type": "display_data"
    }
   ],
   "source": [
    "#create bar chart with total sales by cover type\n",
    "a= sns.barplot(unique, x= 'cover', y= 'buyers', estimator= 'sum', hue='cover', errorbar=None)\n",
    "for container in a.containers:\n",
    "    a.bar_label(container)\n",
    "a.set_title('Total Sales by Cover Type')\n"
   ]
  },
  {
   "cell_type": "markdown",
   "id": "0b73a48c-748c-4619-8e40-09341624f5bf",
   "metadata": {},
   "source": [
    "#### Paperback books have the most sales by far with 57,112 total buyers. Let's zoom in and take a look at the top sellers in the paperback category."
   ]
  },
  {
   "cell_type": "code",
   "execution_count": 29,
   "id": "55a8e611-dce2-4366-99ed-312d59e3bdc3",
   "metadata": {},
   "outputs": [
    {
     "data": {
      "text/plain": [
       "Text(0.5, 0.98, 'Paperback Sales')"
      ]
     },
     "execution_count": 29,
     "metadata": {},
     "output_type": "execute_result"
    },
    {
     "data": {
      "image/png": "[encoded data removed]",
      "text/plain": [
       "<Figure size 400x400 with 1 Axes>"
      ]
     },
     "metadata": {},
     "output_type": "display_data"
    }
   ],
   "source": [
    "#What paperback has the most sales?\n",
    "paperback= unique[unique['cover']=='paperback']\n",
    "g = sns.catplot(data=paperback, y='buyers', x='cover', hue='buyers', legend=False, height=4)\n",
    "g.fig.suptitle(\"Paperback Sales\")\n"
   ]
  },
  {
   "cell_type": "markdown",
   "id": "e627cb98-2a9c-4a73-8d3f-270c3f60ce72",
   "metadata": {},
   "source": [
    "#### The above plot reveals a clear outlier: one paperback title over 8000 buyers. What book is it?"
   ]
  },
  {
   "cell_type": "code",
   "execution_count": 30,
   "id": "98f146e6-4611-4091-a7e3-04287f71cf79",
   "metadata": {},
   "outputs": [
    {
     "data": {
      "text/html": [
       "<div>\n",
       "<style scoped>\n",
       "    .dataframe tbody tr th:only-of-type {\n",
       "        vertical-align: middle;\n",
       "    }\n",
       "\n",
       "    .dataframe tbody tr th {\n",
       "        vertical-align: top;\n",
       "    }\n",
       "\n",
       "    .dataframe thead th {\n",
       "        text-align: right;\n",
       "    }\n",
       "</style>\n",
       "<table border=\"1\" class=\"dataframe\">\n",
       "  <thead>\n",
       "    <tr style=\"text-align: right;\">\n",
       "      <th></th>\n",
       "      <th>book-title</th>\n",
       "      <th>cover</th>\n",
       "      <th>author</th>\n",
       "      <th>star</th>\n",
       "      <th>buyers</th>\n",
       "      <th>price $</th>\n",
       "    </tr>\n",
       "  </thead>\n",
       "  <tbody>\n",
       "    <tr>\n",
       "      <th>87</th>\n",
       "      <td>Invisible Women: Data Bias in a World Designed for Men</td>\n",
       "      <td>paperback</td>\n",
       "      <td>Caroline Criado Perez</td>\n",
       "      <td>4.0</td>\n",
       "      <td>8309</td>\n",
       "      <td>14.99</td>\n",
       "    </tr>\n",
       "  </tbody>\n",
       "</table>\n",
       "</div>"
      ],
      "text/plain": [
       "                                                book-title      cover  \\\n",
       "87  Invisible Women: Data Bias in a World Designed for Men  paperback   \n",
       "\n",
       "                    author  star  buyers  price $  \n",
       "87   Caroline Criado Perez   4.0    8309    14.99  "
      ]
     },
     "execution_count": 30,
     "metadata": {},
     "output_type": "execute_result"
    }
   ],
   "source": [
    "unique[unique['buyers'].max()==unique['buyers']]\n"
   ]
  },
  {
   "cell_type": "markdown",
   "id": "ecbb8148-fb05-442a-8caf-e38a978a80b6",
   "metadata": {},
   "source": [
    "#### 'Invisible Women' by Caroline Criado Perez has 8309 buyers, which is almost as many buyers as all the buyers for hardcovers and audiobooks combined! This data suggests that 'Invisible Women' is a title that has transcended the niche Data Science subcategory of books and found a broader market.\n"
   ]
  },
  {
   "cell_type": "code",
   "execution_count": 31,
   "id": "3c2be789-e928-4c08-b9b9-aca051ee7177",
   "metadata": {},
   "outputs": [],
   "source": [
    "#create df version without Perez for more useful buyers visualization \n",
    "no_perez = unique[unique['book-title'] != 'Invisible Women: Data Bias in a World Designed for Men']"
   ]
  },
  {
   "cell_type": "markdown",
   "id": "563c3ce2-f340-460b-b1f1-607869dbc9f6",
   "metadata": {},
   "source": [
    "### What's the price range for each cover type?"
   ]
  },
  {
   "cell_type": "code",
   "execution_count": 32,
   "id": "e66c4c4b-0789-4e26-a7c0-9addee8da8e3",
   "metadata": {},
   "outputs": [
    {
     "data": {
      "text/plain": [
       "Text(0.5, 1.0, 'Price by Cover Type')"
      ]
     },
     "execution_count": 32,
     "metadata": {},
     "output_type": "execute_result"
    },
    {
     "data": {
      "image/png": "[encoded data removed]",
      "text/plain": [
       "<Figure size 640x480 with 1 Axes>"
      ]
     },
     "metadata": {},
     "output_type": "display_data"
    }
   ],
   "source": [
    "box_plot= sns.boxplot(data=unique, x=\"cover\", y=\"price $\", hue= \"cover\")\n",
    "box_plot.set_title('Price by Cover Type')"
   ]
  },
  {
   "cell_type": "markdown",
   "id": "e9dd5ed4-d49f-4baa-a080-d5d270c0af1d",
   "metadata": {},
   "source": [
    "#### The boxplot shows the price range for each cover type and reveals a handful of significant outliers for both paperback and hardcover. Let's take a look at the most expensive titles:"
   ]
  },
  {
   "cell_type": "code",
   "execution_count": 33,
   "id": "532a48f1-0a6b-41b4-98df-b44c73d9a54d",
   "metadata": {
    "scrolled": true
   },
   "outputs": [
    {
     "data": {
      "text/html": [
       "<div>\n",
       "<style scoped>\n",
       "    .dataframe tbody tr th:only-of-type {\n",
       "        vertical-align: middle;\n",
       "    }\n",
       "\n",
       "    .dataframe tbody tr th {\n",
       "        vertical-align: top;\n",
       "    }\n",
       "\n",
       "    .dataframe thead th {\n",
       "        text-align: right;\n",
       "    }\n",
       "</style>\n",
       "<table border=\"1\" class=\"dataframe\">\n",
       "  <thead>\n",
       "    <tr style=\"text-align: right;\">\n",
       "      <th></th>\n",
       "      <th>book-title</th>\n",
       "      <th>cover</th>\n",
       "      <th>author</th>\n",
       "      <th>star</th>\n",
       "      <th>buyers</th>\n",
       "      <th>price $</th>\n",
       "    </tr>\n",
       "  </thead>\n",
       "  <tbody>\n",
       "    <tr>\n",
       "      <th>19</th>\n",
       "      <td>Business Intelligence, Analytics, and Data Science: A Managerial Perspective</td>\n",
       "      <td>paperback</td>\n",
       "      <td>Ramesh Sharda, Dursun Dele</td>\n",
       "      <td>4.5</td>\n",
       "      <td>265</td>\n",
       "      <td>106.66</td>\n",
       "    </tr>\n",
       "    <tr>\n",
       "      <th>151</th>\n",
       "      <td>Qualitative Data Analysis: A Methods Sourcebook</td>\n",
       "      <td>paperback</td>\n",
       "      <td>y Matthew B. Miles, A. Michael Huberman,</td>\n",
       "      <td>5.0</td>\n",
       "      <td>195</td>\n",
       "      <td>85.00</td>\n",
       "    </tr>\n",
       "  </tbody>\n",
       "</table>\n",
       "</div>"
      ],
      "text/plain": [
       "                                                                       book-title  \\\n",
       "19   Business Intelligence, Analytics, and Data Science: A Managerial Perspective   \n",
       "151                               Qualitative Data Analysis: A Methods Sourcebook   \n",
       "\n",
       "         cover                                    author  star  buyers  \\\n",
       "19   paperback                Ramesh Sharda, Dursun Dele   4.5     265   \n",
       "151  paperback  y Matthew B. Miles, A. Michael Huberman,   5.0     195   \n",
       "\n",
       "     price $  \n",
       "19    106.66  \n",
       "151    85.00  "
      ]
     },
     "execution_count": 33,
     "metadata": {},
     "output_type": "execute_result"
    }
   ],
   "source": [
    "#what're the 2 price outliers in the paperback category?\n",
    "paperback = unique[unique['cover']== 'paperback'].sort_values(by='price $', ascending=False)\n",
    "paperback[:2]"
   ]
  },
  {
   "cell_type": "code",
   "execution_count": 34,
   "id": "c19d4d3d-9026-47c6-81c6-2f4653bc3989",
   "metadata": {
    "scrolled": true
   },
   "outputs": [
    {
     "data": {
      "text/html": [
       "<div>\n",
       "<style scoped>\n",
       "    .dataframe tbody tr th:only-of-type {\n",
       "        vertical-align: middle;\n",
       "    }\n",
       "\n",
       "    .dataframe tbody tr th {\n",
       "        vertical-align: top;\n",
       "    }\n",
       "\n",
       "    .dataframe thead th {\n",
       "        text-align: right;\n",
       "    }\n",
       "</style>\n",
       "<table border=\"1\" class=\"dataframe\">\n",
       "  <thead>\n",
       "    <tr style=\"text-align: right;\">\n",
       "      <th></th>\n",
       "      <th>book-title</th>\n",
       "      <th>cover</th>\n",
       "      <th>author</th>\n",
       "      <th>star</th>\n",
       "      <th>buyers</th>\n",
       "      <th>price $</th>\n",
       "    </tr>\n",
       "  </thead>\n",
       "  <tbody>\n",
       "    <tr>\n",
       "      <th>161</th>\n",
       "      <td>Statistics: The Art and Science of Learning from Data</td>\n",
       "      <td>hardcover</td>\n",
       "      <td>Alan Agresti , Christine Franklin, et</td>\n",
       "      <td>4.5</td>\n",
       "      <td>121</td>\n",
       "      <td>175.43</td>\n",
       "    </tr>\n",
       "    <tr>\n",
       "      <th>92</th>\n",
       "      <td>Machine Learning - A Journey To Deep Learning: With Exercises And Answers</td>\n",
       "      <td>hardcover</td>\n",
       "      <td>Andreas Miroslaus Wichert and Luis Sa-couto</td>\n",
       "      <td>3.5</td>\n",
       "      <td>2</td>\n",
       "      <td>168.00</td>\n",
       "    </tr>\n",
       "    <tr>\n",
       "      <th>12</th>\n",
       "      <td>Artificial Intelligence: A Modern Approach (Pearson Series in Artifical Intelligence)</td>\n",
       "      <td>hardcover</td>\n",
       "      <td>Pearson Series in Artifical Intelligence (1 Books)</td>\n",
       "      <td>4.3</td>\n",
       "      <td>355</td>\n",
       "      <td>165.32</td>\n",
       "    </tr>\n",
       "  </tbody>\n",
       "</table>\n",
       "</div>"
      ],
      "text/plain": [
       "                                                                                book-title  \\\n",
       "161                                  Statistics: The Art and Science of Learning from Data   \n",
       "92               Machine Learning - A Journey To Deep Learning: With Exercises And Answers   \n",
       "12   Artificial Intelligence: A Modern Approach (Pearson Series in Artifical Intelligence)   \n",
       "\n",
       "         cover                                              author  star  \\\n",
       "161  hardcover               Alan Agresti , Christine Franklin, et   4.5   \n",
       "92   hardcover         Andreas Miroslaus Wichert and Luis Sa-couto   3.5   \n",
       "12   hardcover  Pearson Series in Artifical Intelligence (1 Books)   4.3   \n",
       "\n",
       "     buyers  price $  \n",
       "161     121   175.43  \n",
       "92        2   168.00  \n",
       "12      355   165.32  "
      ]
     },
     "execution_count": 34,
     "metadata": {},
     "output_type": "execute_result"
    }
   ],
   "source": [
    "#what're the 3 price outliers in the hardcover category?\n",
    "hardcover = unique[unique['cover']== 'hardcover'].sort_values(by='price $', ascending=False)\n",
    "hardcover[:3]"
   ]
  },
  {
   "cell_type": "markdown",
   "id": "ea5cd31f-21de-4d88-91bf-3ac29a96104f",
   "metadata": {},
   "source": [
    "### Across all cover types, what's the distribution of pricing? \n"
   ]
  },
  {
   "cell_type": "code",
   "execution_count": 35,
   "id": "67dca5fa-217c-4db0-bdf7-47b87fa3a892",
   "metadata": {},
   "outputs": [
    {
     "data": {
      "text/plain": [
       "Text(0.5, 0.98, 'Overall Price Distribution')"
      ]
     },
     "execution_count": 35,
     "metadata": {},
     "output_type": "execute_result"
    },
    {
     "data": {
      "image/png": "[encoded data removed]",
      "text/plain": [
       "<Figure size 500x500 with 1 Axes>"
      ]
     },
     "metadata": {},
     "output_type": "display_data"
    }
   ],
   "source": [
    "c= sns.displot(unique['price $'], kde=True)\n",
    "c.fig.suptitle(\"Overall Price Distribution\")"
   ]
  },
  {
   "cell_type": "markdown",
   "id": "4132fa87-f83a-43e3-9f13-68266b62aa61",
   "metadata": {},
   "source": [
    "### What are the most common words used in data science book titles?"
   ]
  },
  {
   "cell_type": "markdown",
   "id": "83655a5c-430a-4195-9cba-0967ff9f0419",
   "metadata": {},
   "source": [
    "For the final visualization, I'm curious about exploring what words pop up the most in our collection of book titles. "
   ]
  },
  {
   "cell_type": "code",
   "execution_count": 36,
   "id": "f761b376-d98a-433f-8b63-968a6b7e553a",
   "metadata": {
    "scrolled": true
   },
   "outputs": [],
   "source": [
    "pd.set_option('display.max_rows', None)\n",
    "#define a function that tokenizes, cleans text\n",
    "def clean(text):\n",
    "        #tokenize text\n",
    "        text = word_tokenize(text)\n",
    "        #lowercase text if it contains alphabetic characters\n",
    "        text = [word.lower() for word in text if word.isalpha()]\n",
    "        #remove punctuation\n",
    "        punct = str.maketrans('','', string.punctuation)\n",
    "        text = [word.translate(punct) for word in text]\n",
    "        #remove stopwords \n",
    "        text = [word for word in text if not word in stopwords]\n",
    "        return text\n",
    "titles  = str(unique['book-title'])\n",
    "titles = clean(titles)"
   ]
  },
  {
   "cell_type": "code",
   "execution_count": 37,
   "id": "ee553a35-0fd0-43f8-b5f2-9368713f769e",
   "metadata": {
    "scrolled": true
   },
   "outputs": [
    {
     "data": {
      "text/plain": [
       "[('data', 107),\n",
       " ('learning', 85),\n",
       " ('python', 52),\n",
       " ('science', 47),\n",
       " ('machine', 47),\n",
       " ('deep', 38),\n",
       " ('language', 27),\n",
       " ('processing', 25),\n",
       " ('natural', 22),\n",
       " ('using', 16),\n",
       " ('guide', 15),\n",
       " ('analysis', 13),\n",
       " ('programming', 13),\n",
       " ('analytics', 11),\n",
       " ('tensorflow', 11),\n",
       " ('build', 11),\n",
       " ('building', 10),\n",
       " ('statistics', 10),\n",
       " ('r', 10),\n",
       " ('introduction', 10)]"
      ]
     },
     "execution_count": 37,
     "metadata": {},
     "output_type": "execute_result"
    }
   ],
   "source": [
    "#count individual tokens (words) in list of titles\n",
    "word_counts = Counter(titles)\n",
    "#find 20 most common words, number of occurances \n",
    "most_common = word_counts.most_common(20)\n",
    "most_common"
   ]
  },
  {
   "cell_type": "code",
   "execution_count": 38,
   "id": "adfe63d2-7f9f-4e65-aa07-d03f2b8b50e7",
   "metadata": {},
   "outputs": [
    {
     "data": {
      "text/plain": [
       "[Text(0.5, 1.0, 'Most Common Title Words')]"
      ]
     },
     "execution_count": 38,
     "metadata": {},
     "output_type": "execute_result"
    },
    {
     "data": {
      "image/png": "[encoded data removed]",
      "text/plain": [
       "<Figure size 640x480 with 1 Axes>"
      ]
     },
     "metadata": {},
     "output_type": "display_data"
    }
   ],
   "source": [
    "#turn most_common list into df, create barplot\n",
    "common_words = pd.DataFrame(most_common, columns = ['Words', 'Counts'])\n",
    "sns.barplot(y=\"Words\", x=\"Counts\", data=common_words, hue='Words').set(title='Most Common Title Words')"
   ]
  },
  {
   "cell_type": "code",
   "execution_count": null,
   "id": "293306a2-a9ca-49d5-a646-a455eb370e02",
   "metadata": {},
   "outputs": [],
   "source": []
  }
 ],
 "metadata": {
  "kernelspec": {
   "display_name": "Python 3 (ipykernel)",
   "language": "python",
   "name": "python3"
  },
  "language_info": {
   "codemirror_mode": {
    "name": "ipython",
    "version": 3
   },
   "file_extension": ".py",
   "mimetype": "text/x-python",
   "name": "python",
   "nbconvert_exporter": "python",
   "pygments_lexer": "ipython3",
   "version": "3.12.5"
  }
 },
 "nbformat": 4,
 "nbformat_minor": 5
}
